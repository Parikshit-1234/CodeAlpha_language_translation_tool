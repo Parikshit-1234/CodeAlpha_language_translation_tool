{
 "cells": [
  {
   "cell_type": "markdown",
   "id": "516d9c10-929f-4076-b30f-fb3dad452908",
   "metadata": {},
   "source": [
    "# Name - Parikshit Sahu\n",
    "## Code alpha internship task 1\n",
    "## Language translation Tool using Google Translate API"
   ]
  },
  {
   "cell_type": "markdown",
   "id": "0ef851c2-0cbf-4874-be6c-bfb21ed87f2d",
   "metadata": {},
   "source": [
    "### Code for Translation into English language from Spanish"
   ]
  },
  {
   "cell_type": "code",
   "execution_count": 48,
   "id": "0666c8e8-fbbe-4a2d-9a45-b12c7fd83ccb",
   "metadata": {},
   "outputs": [
    {
     "name": "stdout",
     "output_type": "stream",
     "text": [
      "Original Text: ¿Cómo se llama usted?\n",
      "Translated Text: What's the name of you?\n"
     ]
    }
   ],
   "source": [
    "# Import necessary library\n",
    "from googletrans import Translator\n",
    "\n",
    "# Create a function for language translation\n",
    "def translate_text(text, src_language='auto', dest_language='en'):\n",
    "    \"\"\"\n",
    "    Translates text from the source language to the destination language.\n",
    "\n",
    "    Parameters:\n",
    "    - text (str): The text to be translated.\n",
    "    - src_language (str): The source language code (default: 'auto' for automatic detection).\n",
    "    - dest_language (str): The destination language code (default: 'en' for English).\n",
    "    \n",
    "    Returns:\n",
    "    - translated_text (str): The translated text.\n",
    "    \"\"\"\n",
    "    # Initialize the Google Translate API translator\n",
    "    translator = Translator()\n",
    "    \n",
    "    # Translate the text\n",
    "    translation = translator.translate(text, src=src_language, dest=dest_language)\n",
    "    \n",
    "    # Return the translated text\n",
    "    return translation.text\n",
    "\n",
    "# Example usage\n",
    "if __name__ == \"__main__\":\n",
    "    # Text to be translated\n",
    "    text_to_translate = \"¿Cómo se llama usted?\"\n",
    "    \n",
    "    # Translate from Spanish (auto-detected) to English\n",
    "    translated_text = translate_text(text_to_translate, dest_language='en')\n",
    "    \n",
    "    # Print the translated text\n",
    "    print(f\"Original Text: {text_to_translate}\")\n",
    "    print(f\"Translated Text: {translated_text}\")\n"
   ]
  },
  {
   "cell_type": "markdown",
   "id": "edb32937-4ad0-4242-b6c6-5319c8d529eb",
   "metadata": {},
   "source": [
    "### Code for Translation into hindi language from german"
   ]
  },
  {
   "cell_type": "code",
   "execution_count": 39,
   "id": "800bd400-f6f7-4bb8-a7e5-a8cecedcf3d9",
   "metadata": {},
   "outputs": [
    {
     "name": "stdout",
     "output_type": "stream",
     "text": [
      "Original Text: Wie Heissen Sie\n",
      "Translated Text: आपको क्या बुलाया जाता है\n"
     ]
    }
   ],
   "source": [
    "# Import necessary library\n",
    "from googletrans import Translator\n",
    "\n",
    "# Create a function for language translation\n",
    "def translate_text(text, src_language='auto', dest_language='hi'):\n",
    "    \"\"\"\n",
    "    Translates text from the source language to the destination language.\n",
    "\n",
    "    Parameters:\n",
    "    - text (str): The text to be translated.\n",
    "    - src_language (str): The source language code (default: 'auto' for automatic detection).\n",
    "    - dest_language (str): The destination language code (default: 'en' for English).\n",
    "    \n",
    "    Returns:\n",
    "    - translated_text (str): The translated text.\n",
    "    \"\"\"\n",
    "    # Initialize the Google Translate API translator\n",
    "    translator = Translator()\n",
    "    \n",
    "    # Translate the text\n",
    "    translation = translator.translate(text, src=src_language, dest=dest_language)\n",
    "    \n",
    "    # Return the translated text\n",
    "    return translation.text\n",
    "\n",
    "# Example usage\n",
    "if __name__ == \"__main__\":\n",
    "    # Text to be translated\n",
    "    text_to_translate = \"Wie Heissen Sie\"\n",
    "    \n",
    "    # Translate from German (auto-detected) to Hindi\n",
    "    translated_text = translate_text(text_to_translate, dest_language='hi')\n",
    "    \n",
    "    # Print the translated text\n",
    "    print(f\"Original Text: {text_to_translate}\")\n",
    "    print(f\"Translated Text: {translated_text}\")\n"
   ]
  },
  {
   "cell_type": "markdown",
   "id": "f7dc8c3e-fe5e-4bdb-91df-f8bd81bd6dbe",
   "metadata": {},
   "source": [
    "### Code for Translation into Gujarati language from French "
   ]
  },
  {
   "cell_type": "code",
   "execution_count": 43,
   "id": "28777c27-902e-44be-80bb-294628c97995",
   "metadata": {},
   "outputs": [
    {
     "name": "stdout",
     "output_type": "stream",
     "text": [
      "Original Text: Comment vous appelez-vous\n",
      "Translated Text: તમે તમારી જાતને શું કહેશો\n"
     ]
    }
   ],
   "source": [
    "# Import necessary library\n",
    "from googletrans import Translator\n",
    "\n",
    "# Create a function for language translation\n",
    "def translate_text(text, src_language='auto', dest_language='gu'):\n",
    "    \"\"\"\n",
    "    Translates text from the source language to the destination language.\n",
    "\n",
    "    Parameters:\n",
    "    - text (str): The text to be translated.\n",
    "    - src_language (str): The source language code (default: 'auto' for automatic detection).\n",
    "    - dest_language (str): The destination language code (default: 'en' for English).\n",
    "    \n",
    "    Returns:\n",
    "    - translated_text (str): The translated text.\n",
    "    \"\"\"\n",
    "    # Initialize the Google Translate API translator\n",
    "    translator = Translator()\n",
    "    \n",
    "    # Translate the text\n",
    "    translation = translator.translate(text, src=src_language, dest=dest_language)\n",
    "    \n",
    "    # Return the translated text\n",
    "    return translation.text\n",
    "\n",
    "# Example usage\n",
    "if __name__ == \"__main__\":\n",
    "    # Text to be translated\n",
    "    text_to_translate = \"Comment vous appelez-vous\"\n",
    "    \n",
    "    # Translate from French (auto-detected) to Gujarati\n",
    "    translated_text = translate_text(text_to_translate, dest_language='gu')\n",
    "    \n",
    "    # Print the translated text\n",
    "    print(f\"Original Text: {text_to_translate}\")\n",
    "    print(f\"Translated Text: {translated_text}\")\n"
   ]
  },
  {
   "cell_type": "markdown",
   "id": "10cb1286-fc4a-40ca-9d37-4ff9d1e8d002",
   "metadata": {},
   "source": [
    "### Code for Translation into English language from Chinese"
   ]
  },
  {
   "cell_type": "code",
   "execution_count": 59,
   "id": "1395aa68-f6fd-403d-8670-c3d3f38625a7",
   "metadata": {},
   "outputs": [
    {
     "name": "stdout",
     "output_type": "stream",
     "text": [
      "Original Text: 您叫什么名字\n",
      "Translated Text: What is your name\n"
     ]
    }
   ],
   "source": [
    "# Import necessary library\n",
    "from googletrans import Translator\n",
    "\n",
    "# Create a function for language translation\n",
    "def translate_text(text, src_language='auto', dest_language='en'):\n",
    "    \"\"\"\n",
    "    Translates text from the source language to the destination language.\n",
    "\n",
    "    Parameters:\n",
    "    - text (str): The text to be translated.\n",
    "    - src_language (str): The source language code (default: 'auto' for automatic detection).\n",
    "    - dest_language (str): The destination language code (default: 'en' for English).\n",
    "    \n",
    "    Returns:\n",
    "    - translated_text (str): The translated text.\n",
    "    \"\"\"\n",
    "    # Initialize the Google Translate API translator\n",
    "    translator = Translator()\n",
    "    \n",
    "    # Translate the text\n",
    "    translation = translator.translate(text, src=src_language, dest=dest_language)\n",
    "    \n",
    "    # Return the translated text\n",
    "    return translation.text\n",
    "\n",
    "# Example usage\n",
    "if __name__ == \"__main__\":\n",
    "    # Text to be translated\n",
    "    text_to_translate = \"您叫什么名字\"\n",
    "    \n",
    "    # Translate from Chinese (auto-detected) to English\n",
    "    translated_text = translate_text(text_to_translate, dest_language='en')\n",
    "    \n",
    "    # Print the translated text\n",
    "    print(f\"Original Text: {text_to_translate}\")\n",
    "    print(f\"Translated Text: {translated_text}\")\n"
   ]
  },
  {
   "cell_type": "markdown",
   "id": "a2a2ba52-a064-4f99-bf26-c819e6f1714a",
   "metadata": {},
   "source": [
    "### Code for Translation into Hindi language from Japanese"
   ]
  },
  {
   "cell_type": "code",
   "execution_count": 69,
   "id": "9bf506f8-3b09-461f-bea9-918c9dd378c4",
   "metadata": {},
   "outputs": [
    {
     "name": "stdout",
     "output_type": "stream",
     "text": [
      "Original Text: お名前は何ですか\n",
      "Translated Text: आपका क्या नाम है\n"
     ]
    }
   ],
   "source": [
    "# Import necessary library\n",
    "from googletrans import Translator\n",
    "\n",
    "# Create a function for language translation\n",
    "def translate_text(text, src_language='auto', dest_language='hi'):\n",
    "    \"\"\"\n",
    "    Translates text from the source language to the destination language.\n",
    "\n",
    "    Parameters:\n",
    "    - text (str): The text to be translated.\n",
    "    - src_language (str): The source language code (default: 'auto' for automatic detection).\n",
    "    - dest_language (str): The destination language code (default: 'en' for English).\n",
    "    \n",
    "    Returns:\n",
    "    - translated_text (str): The translated text.\n",
    "    \"\"\"\n",
    "    # Initialize the Google Translate API translator\n",
    "    translator = Translator()\n",
    "    \n",
    "    # Translate the text\n",
    "    translation = translator.translate(text, src=src_language, dest=dest_language)\n",
    "    \n",
    "    # Return the translated text\n",
    "    return translation.text\n",
    "\n",
    "# Example usage\n",
    "if __name__ == \"__main__\":\n",
    "    # Text to be translated\n",
    "    text_to_translate = \"お名前は何ですか\"\n",
    "    \n",
    "    # Translate from Japanese (auto-detected) to Hindi\n",
    "    translated_text = translate_text(text_to_translate, dest_language='hi')\n",
    "    \n",
    "    # Print the translated text\n",
    "    print(f\"Original Text: {text_to_translate}\")\n",
    "    print(f\"Translated Text: {translated_text}\")\n"
   ]
  },
  {
   "cell_type": "code",
   "execution_count": null,
   "id": "8f903afa-ac87-43a5-b431-e484cb8bee5d",
   "metadata": {},
   "outputs": [],
   "source": []
  }
 ],
 "metadata": {
  "kernelspec": {
   "display_name": "Python 3 (ipykernel)",
   "language": "python",
   "name": "python3"
  },
  "language_info": {
   "codemirror_mode": {
    "name": "ipython",
    "version": 3
   },
   "file_extension": ".py",
   "mimetype": "text/x-python",
   "name": "python",
   "nbconvert_exporter": "python",
   "pygments_lexer": "ipython3",
   "version": "3.12.4"
  }
 },
 "nbformat": 4,
 "nbformat_minor": 5
}
